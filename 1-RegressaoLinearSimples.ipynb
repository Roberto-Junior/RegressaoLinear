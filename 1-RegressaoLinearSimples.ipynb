{
    "cells": [
        {
            "cell_type": "markdown",
            "source": [
                "<img src=\"images/1/titulos/0-VisaoGeral.png\">"
            ],
            "metadata": {}
        },
        {
            "cell_type": "markdown",
            "source": [
                "## Assuntos tratados neste notebook:\r\n",
                "- O que é Regressão Linear Simples\r\n",
                "- Como calcular Regressão Linear Simples usando scikit-learn, numpy ou 'manualmente'\r\n",
                "- O que é uma matriz\r\n",
                "- O que é e como calcular a matriz inversa, transposta e a multiplicação entre matrizes\r\n",
                "- Como avaliar o desempenho do seu modelo com MAE (Mean absolute error) e RSME (Root Mean Square Error)\r\n",
                "- Diferenças entre MAE e RSME"
            ],
            "metadata": {}
        },
        {
            "cell_type": "markdown",
            "source": [
                "<img src=\"images/1/titulos/1-OProblema.png\">"
            ],
            "metadata": {}
        },
        {
            "cell_type": "markdown",
            "source": [
                "O quanto as notícias negativas na mídia digital influenciam as vendas de uma ação na bolsa de valores?\r\n",
                "Neste notebook iremos utilizar Regressão Linear Simples para relacionar as notícias compartilhadas no meio online com a quantidade total de pessoas que venderam a ação.<br><br>\r\n",
                "(<i>IMPORTANTE: esse dataset não é real e foi criado pelo autor só para exemplificar a utilização de Regressão Linear Simples.</i>)"
            ],
            "metadata": {}
        },
        {
            "cell_type": "code",
            "execution_count": 1,
            "source": [
                "#Importando bibliotecas\r\n",
                "import pandas as pd\r\n",
                "import numpy as np\r\n",
                "import matplotlib.pyplot as plt\r\n",
                "import seaborn as sns\r\n",
                "%matplotlib inline\r\n",
                "\r\n",
                "# configurando matplotlib\r\n",
                "parameters = {\r\n",
                "        'legend.fontsize': 'large',\r\n",
                "        'figure.figsize': (14,9),\r\n",
                "        'axes.labelsize': 20,\r\n",
                "        'axes.titlesize': 22,\r\n",
                "        'xtick.labelsize': 18,\r\n",
                "        'ytick.labelsize': 18,\r\n",
                "        # 'axes.titlepad': 20\r\n",
                "        }\r\n",
                "plt.rcParams.update(parameters)\r\n",
                "\r\n",
                "#configurando seaborn\r\n",
                "sns.set_style(\"dark\", {'axes.grid' : True})"
            ],
            "outputs": [],
            "metadata": {}
        },
        {
            "cell_type": "markdown",
            "source": [
                "<img src=\"images/1/titulos/2-CarregandoEVisua.png\">"
            ],
            "metadata": {}
        },
        {
            "cell_type": "code",
            "execution_count": 2,
            "source": [
                "#carregando dados na planilha\r\n",
                "df_vendas = pd.read_csv(\"dataset/Noticia-vendasAcoes.csv\", usecols=['Vendas_Acao','Noticias_ON'])\r\n",
                "\r\n",
                "#visualizando dataset\r\n",
                "df_vendas.head()"
            ],
            "outputs": [
                {
                    "output_type": "execute_result",
                    "data": {
                        "text/html": [
                            "<div>\n",
                            "<style scoped>\n",
                            "    .dataframe tbody tr th:only-of-type {\n",
                            "        vertical-align: middle;\n",
                            "    }\n",
                            "\n",
                            "    .dataframe tbody tr th {\n",
                            "        vertical-align: top;\n",
                            "    }\n",
                            "\n",
                            "    .dataframe thead th {\n",
                            "        text-align: right;\n",
                            "    }\n",
                            "</style>\n",
                            "<table border=\"1\" class=\"dataframe\">\n",
                            "  <thead>\n",
                            "    <tr style=\"text-align: right;\">\n",
                            "      <th></th>\n",
                            "      <th>Vendas_Acao</th>\n",
                            "      <th>Noticias_ON</th>\n",
                            "    </tr>\n",
                            "  </thead>\n",
                            "  <tbody>\n",
                            "    <tr>\n",
                            "      <th>0</th>\n",
                            "      <td>500</td>\n",
                            "      <td>3</td>\n",
                            "    </tr>\n",
                            "    <tr>\n",
                            "      <th>1</th>\n",
                            "      <td>1200</td>\n",
                            "      <td>5</td>\n",
                            "    </tr>\n",
                            "    <tr>\n",
                            "      <th>2</th>\n",
                            "      <td>2000</td>\n",
                            "      <td>9</td>\n",
                            "    </tr>\n",
                            "    <tr>\n",
                            "      <th>3</th>\n",
                            "      <td>3200</td>\n",
                            "      <td>11</td>\n",
                            "    </tr>\n",
                            "    <tr>\n",
                            "      <th>4</th>\n",
                            "      <td>3700</td>\n",
                            "      <td>15</td>\n",
                            "    </tr>\n",
                            "  </tbody>\n",
                            "</table>\n",
                            "</div>"
                        ],
                        "text/plain": [
                            "   Vendas_Acao  Noticias_ON\n",
                            "0          500            3\n",
                            "1         1200            5\n",
                            "2         2000            9\n",
                            "3         3200           11\n",
                            "4         3700           15"
                        ]
                    },
                    "metadata": {},
                    "execution_count": 2
                }
            ],
            "metadata": {}
        },
        {
            "cell_type": "code",
            "execution_count": 3,
            "source": [
                "#visualizando relação entre Vendas e Notícias online\r\n",
                "g = sns.scatterplot(data=df_vendas, x=\"Noticias_ON\",y=\"Vendas_Acao\",s=120)\r\n",
                "g.axes.set_title(\"Relação entre vendas e notícias online\",fontsize=22)\r\n",
                "g.set_ylabel(\"Vendas\")\r\n",
                "g.set_xlabel(\"Notícias online\")"
            ],
            "outputs": [
                {
                    "output_type": "execute_result",
                    "data": {
                        "text/plain": [
                            "Text(0.5, 0, 'Notícias online')"
                        ]
                    },
                    "metadata": {},
                    "execution_count": 3
                },
                {
                    "output_type": "display_data",
                    "data": {
                        "image/png": "[encoded data removed]",
                        "text/plain": [
                            "<Figure size 1008x648 with 1 Axes>"
                        ]
                    },
                    "metadata": {}
                }
            ],
            "metadata": {}
        },
        {
            "cell_type": "markdown",
            "source": [
                "<img src=\"images/1/titulos/3-RegressaoLinearS.png\">"
            ],
            "metadata": {}
        },
        {
            "cell_type": "markdown",
            "source": [
                "# $Y = \\beta_0 + \\beta_1 X$\r\n",
                "\r\n",
                "<i>onde:</i><br>\r\n",
                "Y: variável dependente ou variável a ser calculada (Em nosso exemplo, será o total de pessoas que **venderam a ação** no mês<br>\r\n",
                "X: variável independente, usada para prever Y (Em nosso exemplo, será o total de **notícias publicadas pela mídia de forma online** por mês)<br>\r\n",
                "$\\beta_0$: Valor onde a reta cruza o eixo Y (ou o valor de Y, quando X=0)<br>\r\n",
                "$\\beta_1$: Coeficiente angular da reta"
            ],
            "metadata": {}
        },
        {
            "cell_type": "code",
            "execution_count": 4,
            "source": [
                "#separando os dados em X e Y\r\n",
                "X = df_vendas[['Noticias_ON']]\r\n",
                "Y = df_vendas['Vendas_Acao']"
            ],
            "outputs": [],
            "metadata": {}
        },
        {
            "cell_type": "markdown",
            "source": [
                "<img src=\"images/1/titulos/4-AplicandoRegressaoLinear.png\">"
            ],
            "metadata": {}
        },
        {
            "cell_type": "markdown",
            "source": [
                "O passo a passo da utilização do scikit-learn é muito simples: <br>\r\n",
                "1) importar a biblioteca <br>\r\n",
                "2) declarar a variável que receberá o modelo<br>\r\n",
                "3) chamar função \"fit()\" que treinará o modelo e calculará os coeficientes B0 e B1<br>\r\n",
                "4) chamar a função \"predict()\" para prever valores de Y"
            ],
            "metadata": {}
        },
        {
            "cell_type": "code",
            "execution_count": 5,
            "source": [
                "#importando biblioteca\r\n",
                "from sklearn.linear_model import LinearRegression\r\n",
                "\r\n",
                "#declarando modelo\r\n",
                "Lr = LinearRegression()"
            ],
            "outputs": [],
            "metadata": {}
        },
        {
            "cell_type": "code",
            "execution_count": 6,
            "source": [
                "#treinando modelo\r\n",
                "Lr.fit(X, Y)\r\n",
                "\r\n",
                "#gerando saída do modelo\r\n",
                "prever = Lr.predict(X)"
            ],
            "outputs": [],
            "metadata": {}
        },
        {
            "cell_type": "code",
            "execution_count": 7,
            "source": [
                "#visualizando o coeficiente angular da reta \r\n",
                "Lr.coef_"
            ],
            "outputs": [
                {
                    "output_type": "execute_result",
                    "data": {
                        "text/plain": [
                            "array([282.66666667])"
                        ]
                    },
                    "metadata": {},
                    "execution_count": 7
                }
            ],
            "metadata": {}
        },
        {
            "cell_type": "code",
            "execution_count": 8,
            "source": [
                "#visualizando o intercepto y\r\n",
                "Lr.intercept_"
            ],
            "outputs": [
                {
                    "output_type": "execute_result",
                    "data": {
                        "text/plain": [
                            "-293.33333333333394"
                        ]
                    },
                    "metadata": {},
                    "execution_count": 8
                }
            ],
            "metadata": {}
        },
        {
            "cell_type": "code",
            "execution_count": 9,
            "source": [
                "#Visualizando regressão\r\n",
                "fig, ax = plt.subplots()\r\n",
                "g = sns.scatterplot(data=df_vendas, x='Noticias_ON', y='Vendas_Acao', s=80, ax=ax)\r\n",
                "sns.lineplot(x=df_vendas['Noticias_ON'], y=prever, ax=ax, linewidth=3)\r\n",
                "g.axes.set_title(\"Regressão Linear Simples\",fontsize=22)\r\n",
                "g.set_ylabel(\"Vendas\")\r\n",
                "g.set_xlabel(\"Notícias online\")"
            ],
            "outputs": [
                {
                    "output_type": "execute_result",
                    "data": {
                        "text/plain": [
                            "Text(0.5, 0, 'Notícias online')"
                        ]
                    },
                    "metadata": {},
                    "execution_count": 9
                },
                {
                    "output_type": "display_data",
                    "data": {
                        "image/png": "[encoded data removed]",
                        "text/plain": [
                            "<Figure size 1008x648 with 1 Axes>"
                        ]
                    },
                    "metadata": {}
                }
            ],
            "metadata": {}
        },
        {
            "cell_type": "code",
            "execution_count": 10,
            "source": [
                "#comparando 5 primeiros valores de Y do modelo com o valor de Y real\r\n",
                "print(\"Vendas modelo: \", prever.round(0))\r\n",
                "print(\"Vendas real:   \", df_vendas['Vendas_Acao'].tolist())"
            ],
            "outputs": [
                {
                    "output_type": "stream",
                    "name": "stdout",
                    "text": [
                        "Vendas modelo:  [ 555. 1120. 2251. 2816. 3947. 4512.]\n",
                        "Vendas real:    [500, 1200, 2000, 3200, 3700, 4600]\n"
                    ]
                }
            ],
            "metadata": {}
        },
        {
            "cell_type": "markdown",
            "source": [
                "<h3 align=\"center\"><i>Por que o modelo não está prevendo o valor exato?</i></h3>"
            ],
            "metadata": {}
        },
        {
            "cell_type": "markdown",
            "source": [
                "Explicar o porque com a imagem de exemplo"
            ],
            "metadata": {}
        },
        {
            "cell_type": "markdown",
            "source": [
                "<img src=\"images/1/titulos/5-RegressaoLinearRaca.png\">"
            ],
            "metadata": {}
        },
        {
            "cell_type": "markdown",
            "source": [
                "Fórmula geral:\r\n",
                "# $A=(X^{T} X)^{-1} X^{T} Y$\r\n",
                "\r\n",
                "<i>onde</i>:<br>\r\n",
                "$A$ (array de duas posições): $\\beta_0$ (intercepto Y) e $\\beta_1$ (coeficiente angular)"
            ],
            "metadata": {}
        },
        {
            "cell_type": "markdown",
            "source": [
                "<img src=\"images/1/titulos/6-Matriz.png\">"
            ],
            "metadata": {}
        },
        {
            "cell_type": "code",
            "execution_count": 11,
            "source": [
                "# Desenho de uma matriz eplicando seu nome, linhas, colunas etc"
            ],
            "outputs": [],
            "metadata": {}
        },
        {
            "cell_type": "markdown",
            "source": [
                "\"Matriz é uma tabela organizada em linhas e colunas no formato m x n, onde 'm' representa o número de linhas (horizontal) e 'n' o número de colunas (vertical).<br>\r\n",
                "A função das matrizes é relacionar dados numéricos. Por isso, o conceito de matriz não é só importante na Matemática, mas também em outras áreas já que as matrizes têm diversas aplicações.\"<br>\r\n",
                "<i>(Asth, Rafael. Matrizes.Toda Matéria. Disponível em: https://www.todamateria.com.br/matrizes-resumo/. Acesso em: 31/08/2021)</i>"
            ],
            "metadata": {}
        },
        {
            "cell_type": "markdown",
            "source": [
                "<div align=\"center\">\r\n",
                "Matriz transposta\r\n",
                "</div>"
            ],
            "metadata": {}
        },
        {
            "cell_type": "code",
            "execution_count": null,
            "source": [],
            "outputs": [],
            "metadata": {}
        },
        {
            "cell_type": "markdown",
            "source": [
                "<div align=\"center\">\r\n",
                "Matriz inversa\r\n",
                "</div>"
            ],
            "metadata": {}
        },
        {
            "cell_type": "code",
            "execution_count": null,
            "source": [],
            "outputs": [],
            "metadata": {}
        },
        {
            "cell_type": "markdown",
            "source": [
                "<div align=\"center\">\r\n",
                "Multiplicação de matrizes\r\n",
                "</div>"
            ],
            "metadata": {}
        },
        {
            "cell_type": "markdown",
            "source": [
                "<img src=\"images/1/1-teoriaMatriz.png\">"
            ],
            "metadata": {}
        },
        {
            "cell_type": "markdown",
            "source": [
                "<h3 align=\"center\">iremos calcular \"A\" por partes:</h3>"
            ],
            "metadata": {}
        },
        {
            "cell_type": "markdown",
            "source": [
                "# 1) $(X^{T} X)^{-1}$\r\n",
                "# 2) $X^{T} Y$\r\n",
                "# 3) $(X^{T} X)^{-1} X^{T} Y$"
            ],
            "metadata": {}
        },
        {
            "cell_type": "markdown",
            "source": [
                "<h3 align=\"center\">Preparando os dados</h3>"
            ],
            "metadata": {}
        },
        {
            "cell_type": "code",
            "execution_count": 12,
            "source": [
                "#separando Y\r\n",
                "Y = df_vendas['Vendas_Acao'].to_numpy()\r\n",
                "\r\n",
                "#visualizando Y\r\n",
                "Y"
            ],
            "outputs": [
                {
                    "output_type": "execute_result",
                    "data": {
                        "text/plain": [
                            "array([ 500, 1200, 2000, 3200, 3700, 4600], dtype=int64)"
                        ]
                    },
                    "metadata": {},
                    "execution_count": 12
                }
            ],
            "metadata": {}
        },
        {
            "cell_type": "code",
            "execution_count": 13,
            "source": [
                "#salvando quantidade de linhas de X e Y\r\n",
                "linhas = len(Y)\r\n",
                "\r\n",
                "#criando matriz 2x2 preenchidas com números '1'\r\n",
                "X = np.ones(shape=(linhas,2), dtype=int)\r\n",
                "\r\n",
                "#substituindo todas linhas da segunda coluna pelas valores de \"Noticias_ON\"\r\n",
                "X[:,1] = df_vendas['Noticias_ON'].to_numpy()\r\n",
                "\r\n",
                "#visualizando matriz\r\n",
                "print(X)"
            ],
            "outputs": [
                {
                    "output_type": "stream",
                    "name": "stdout",
                    "text": [
                        "[[ 1  3]\n",
                        " [ 1  5]\n",
                        " [ 1  9]\n",
                        " [ 1 11]\n",
                        " [ 1 15]\n",
                        " [ 1 17]]\n"
                    ]
                }
            ],
            "metadata": {}
        },
        {
            "cell_type": "code",
            "execution_count": 14,
            "source": [
                "#calculando matriz transposta de X\r\n",
                "Xt = X.T\r\n",
                "\r\n",
                "#visualizando Xt\r\n",
                "print(Xt)"
            ],
            "outputs": [
                {
                    "output_type": "stream",
                    "name": "stdout",
                    "text": [
                        "[[ 1  1  1  1  1  1]\n",
                        " [ 3  5  9 11 15 17]]\n"
                    ]
                }
            ],
            "metadata": {}
        },
        {
            "cell_type": "markdown",
            "source": [
                "<img src=\"images/1/titulos/7-CalculandoManualmente.png\">"
            ],
            "metadata": {}
        },
        {
            "cell_type": "markdown",
            "source": [
                "# 1) $(X^{T} X)^{-1}$"
            ],
            "metadata": {}
        },
        {
            "cell_type": "markdown",
            "source": [
                "<i>multiplicando matrizes: $(X^{T} X)$</i>\r\n"
            ],
            "metadata": {}
        },
        {
            "cell_type": "markdown",
            "source": [
                "<img src=\"images/1/3-Calculo1.png\">"
            ],
            "metadata": {}
        },
        {
            "cell_type": "markdown",
            "source": [
                "<img src=\"images/1/4-Calculo2.png\">"
            ],
            "metadata": {}
        },
        {
            "cell_type": "markdown",
            "source": [
                "<i>Matriz inversa: $(X^{T} X)^{-1}$</i>\r\n"
            ],
            "metadata": {}
        },
        {
            "cell_type": "markdown",
            "source": [
                "<img src=\"images/1/5-Calculo3.png\">"
            ],
            "metadata": {}
        },
        {
            "cell_type": "markdown",
            "source": [
                "# 2) $X^{T} Y$"
            ],
            "metadata": {}
        },
        {
            "cell_type": "markdown",
            "source": [
                "<img src=\"images/1/6-Calculo4.png\">"
            ],
            "metadata": {}
        },
        {
            "cell_type": "markdown",
            "source": [
                "# 3) $(X^{T} X)^{-1} X^{T} Y$"
            ],
            "metadata": {}
        },
        {
            "cell_type": "markdown",
            "source": [
                "<img src=\"images/1/7-Calculo5.png\">"
            ],
            "metadata": {}
        },
        {
            "cell_type": "markdown",
            "source": [
                "<img src=\"images/1/titulos/8-CalcularUsandoNumpy.png\">"
            ],
            "metadata": {}
        },
        {
            "cell_type": "markdown",
            "source": [
                "$ 1)$ &nbsp; $(X^{T} X)^{-1}$"
            ],
            "metadata": {}
        },
        {
            "cell_type": "code",
            "execution_count": 15,
            "source": [
                "#produto entre matrizes\r\n",
                "Xt_X = np.dot(Xt, X)\r\n",
                "\r\n",
                "#visualizando produto entre matrizes\r\n",
                "Xt_X"
            ],
            "outputs": [
                {
                    "output_type": "execute_result",
                    "data": {
                        "text/plain": [
                            "array([[  6,  60],\n",
                            "       [ 60, 750]])"
                        ]
                    },
                    "metadata": {},
                    "execution_count": 15
                }
            ],
            "metadata": {}
        },
        {
            "cell_type": "code",
            "execution_count": 16,
            "source": [
                "#calculand inversa da matriz\r\n",
                "Xt_X_inverse = np.linalg.inv(Xt_X)\r\n",
                "\r\n",
                "#visualizando matriz inversa\r\n",
                "Xt_X_inverse"
            ],
            "outputs": [
                {
                    "output_type": "execute_result",
                    "data": {
                        "text/plain": [
                            "array([[ 0.83333333, -0.06666667],\n",
                            "       [-0.06666667,  0.00666667]])"
                        ]
                    },
                    "metadata": {},
                    "execution_count": 16
                }
            ],
            "metadata": {}
        },
        {
            "cell_type": "markdown",
            "source": [
                "2) $X^{T} Y$"
            ],
            "metadata": {}
        },
        {
            "cell_type": "code",
            "execution_count": 17,
            "source": [
                "#produto entre matrizes\r\n",
                "Xt_Y = np.dot(Xt, Y)\r\n",
                "\r\n",
                "#visualizando produto entre matrizes\r\n",
                "Xt_Y"
            ],
            "outputs": [
                {
                    "output_type": "execute_result",
                    "data": {
                        "text/plain": [
                            "array([ 15200, 194400], dtype=int64)"
                        ]
                    },
                    "metadata": {},
                    "execution_count": 17
                }
            ],
            "metadata": {}
        },
        {
            "cell_type": "markdown",
            "source": [
                "3) $(X^{T} X)^{-1} X^{T} Y$"
            ],
            "metadata": {}
        },
        {
            "cell_type": "code",
            "execution_count": 18,
            "source": [
                "#produto entre matrizes\r\n",
                "A = np.dot(Xt_X_inverse, Xt_Y)\r\n",
                "\r\n",
                "#visualizando produto entre matrizes\r\n",
                "A"
            ],
            "outputs": [
                {
                    "output_type": "execute_result",
                    "data": {
                        "text/plain": [
                            "array([-293.33333333,  282.66666667])"
                        ]
                    },
                    "metadata": {},
                    "execution_count": 18
                }
            ],
            "metadata": {}
        },
        {
            "cell_type": "code",
            "execution_count": 19,
            "source": [
                "#comparando valores calculados com o do modelo no sklearn\r\n",
                "print(\"B0 Modelo:\", Lr.intercept_, \"B1 Modelo:\", Lr.coef_)\r\n",
                "print(\"B0 calcul:\", A[0],\" B1 calcul:\", A[1])"
            ],
            "outputs": [
                {
                    "output_type": "stream",
                    "name": "stdout",
                    "text": [
                        "B0 Modelo: -293.33333333333394 B1 Modelo: [282.66666667]\n",
                        "B0 calcul: -293.3333333333321  B1 calcul: 282.66666666666663\n"
                    ]
                }
            ],
            "metadata": {}
        },
        {
            "cell_type": "markdown",
            "source": [
                "<div align=\"center\">\r\n",
                "Fórmula:<br>\r\n",
                "Vendas_Acao = -293 + 283 * Noticias_ON<br><br>\r\n",
                "Essa equação nos informa que, para cada notícia nova que é publicada, mais 283 pessoas vendem a ação.\r\n",
                "</div>"
            ],
            "metadata": {}
        },
        {
            "cell_type": "markdown",
            "source": [
                "<img src=\"images/1/titulos/9-CalculandoErros.png\">"
            ],
            "metadata": {}
        },
        {
            "cell_type": "code",
            "execution_count": null,
            "source": [],
            "outputs": [],
            "metadata": {}
        },
        {
            "cell_type": "markdown",
            "source": [
                "<h2><b>links úteis e referências:</b></h2>\r\n",
                "<a href=\"https://youtu.be/Qa_FI92_qo8\">Perform Linear Regression Using Matrices (vídeo)</a>\r\n",
                "<br>\r\n",
                "<a href=\"https://www.mathsisfun.com/algebra/matrix-multiplying.html\">How to Multiply Matrices </a>\r\n",
                "<br>\r\n",
                "<a href=\"https://youtu.be/F10TdwBH8qc\">Como calcular a matriz inversa (vídeo)</a>"
            ],
            "metadata": {}
        }
    ],
    "metadata": {
        "orig_nbformat": 4,
        "language_info": {
            "name": "python",
            "version": "3.8.8",
            "mimetype": "text/x-python",
            "codemirror_mode": {
                "name": "ipython",
                "version": 3
            },
            "pygments_lexer": "ipython3",
            "nbconvert_exporter": "python",
            "file_extension": ".py"
        },
        "kernelspec": {
            "name": "python3",
            "display_name": "Python 3.8.8 64-bit"
        },
        "interpreter": {
            "hash": "28c88515ae0f3480ea04047e7c7e5b45d61695f2041b7c4f39a5561c61b450c1"
        }
    },
    "nbformat": 4,
    "nbformat_minor": 2
}