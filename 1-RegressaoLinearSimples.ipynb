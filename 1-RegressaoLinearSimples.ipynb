{
    "cells": [
        {
            "cell_type": "markdown",
            "source": [
                "<img src=\"images/1/titulos/1-OProblema.png\">"
            ],
            "metadata": {}
        },
        {
            "cell_type": "markdown",
            "source": [
                "O quanto as notícias negativas na mídia digital influenciam as vendas de uma ação na bolsa de valores?\r\n",
                "Neste notebook iremos utilizar Regressão Linear Simples para relacionar as notícias compartilhadas no meio online com a quantidade total de pessoas que venderam a ação."
            ],
            "metadata": {}
        },
        {
            "cell_type": "code",
            "execution_count": null,
            "source": [
                "#Importando bibliotecas\r\n",
                "import pandas as pd\r\n",
                "import numpy as np\r\n",
                "import matplotlib.pyplot as plt\r\n",
                "import seaborn as sns\r\n",
                "%matplotlib inline\r\n",
                "\r\n",
                "# configurando matplotlib\r\n",
                "parameters = {\r\n",
                "        'legend.fontsize': 'large',\r\n",
                "        'figure.figsize': (14,9),\r\n",
                "        'axes.labelsize': 20,\r\n",
                "        'axes.titlesize': 22,\r\n",
                "        'xtick.labelsize': 18,\r\n",
                "        'ytick.labelsize': 18,\r\n",
                "        # 'axes.titlepad': 20\r\n",
                "        }\r\n",
                "plt.rcParams.update(parameters)\r\n",
                "\r\n",
                "#configurando seaborn\r\n",
                "sns.set_style(\"dark\", {'axes.grid' : True})"
            ],
            "outputs": [],
            "metadata": {}
        },
        {
            "cell_type": "markdown",
            "source": [
                "<img src=\"images/1/titulos/2-CarregandoEVisua.png\">"
            ],
            "metadata": {}
        },
        {
            "cell_type": "code",
            "execution_count": null,
            "source": [
                "#carregando dados na planilha\r\n",
                "df_vendas = pd.read_csv(\"dataset/Noticia-vendasAcoes.csv\", usecols=['Vendas_Acao','Noticias_ON'])\r\n",
                "\r\n",
                "#visualizando dataset\r\n",
                "df_vendas.head()"
            ],
            "outputs": [],
            "metadata": {}
        },
        {
            "cell_type": "code",
            "execution_count": null,
            "source": [
                "#visualizando relação entre Vendas e Notícias online\r\n",
                "g = sns.scatterplot(data=df_vendas, x=\"Noticias_ON\",y=\"Vendas_Acao\",s=120)\r\n",
                "g.axes.set_title(\"Relação entre vendas e notícias online\",fontsize=22)\r\n",
                "g.set_ylabel(\"Vendas\")\r\n",
                "g.set_xlabel(\"Notícias online\")"
            ],
            "outputs": [],
            "metadata": {}
        },
        {
            "cell_type": "markdown",
            "source": [
                "<img src=\"images/1/titulos/3-RegressaoLinearS.png\">"
            ],
            "metadata": {}
        },
        {
            "cell_type": "markdown",
            "source": [
                "# $Y = \\beta_0 + \\beta_1 X$\r\n",
                "\r\n",
                "<i>onde:</i><br>\r\n",
                "Y: variável dependente ou variável a ser calculada (Em nosso exemplo, será o total de pessoas que **venderam a ação** no mês<br>\r\n",
                "X: variável independente, usada para prever Y (Em nosso exemplo, será o total de **notícias publicadas pela mídia de forma online** por mês)<br>\r\n",
                "$\\beta_0$: Valor onde a reta cruza o eixo Y (ou o valor de Y, quando X=0)<br>\r\n",
                "$\\beta_1$: Coeficiente angular da reta"
            ],
            "metadata": {}
        },
        {
            "cell_type": "code",
            "execution_count": null,
            "source": [
                "#separando os dados em X e Y\r\n",
                "X = df_vendas[['Noticias_ON']]\r\n",
                "Y = df_vendas['Vendas_Acao']"
            ],
            "outputs": [],
            "metadata": {}
        },
        {
            "cell_type": "markdown",
            "source": [
                "<img src=\"images/1/titulos/4-AplicandoRegressaoLinear.png\">"
            ],
            "metadata": {}
        },
        {
            "cell_type": "markdown",
            "source": [
                "O passo a passo da utilização do scikit-learn é muito simples: <br>\r\n",
                "1) importar a biblioteca <br>\r\n",
                "2) declarar a variável que receberá o modelo<br>\r\n",
                "3) chamar função \"fit()\" que treinará o modelo e calculará os coeficientes B0 e B1<br>\r\n",
                "4) chamar a função \"predict()\" para prever valores de Y"
            ],
            "metadata": {}
        },
        {
            "cell_type": "code",
            "execution_count": null,
            "source": [
                "#importando biblioteca\r\n",
                "from sklearn.linear_model import LinearRegression\r\n",
                "\r\n",
                "#declarando modelo\r\n",
                "Lr = LinearRegression()"
            ],
            "outputs": [],
            "metadata": {}
        },
        {
            "cell_type": "code",
            "execution_count": null,
            "source": [
                "#treinando modelo\r\n",
                "Lr.fit(X, Y)\r\n",
                "\r\n",
                "#gerando saída do modelo\r\n",
                "prever = Lr.predict(X)"
            ],
            "outputs": [],
            "metadata": {}
        },
        {
            "cell_type": "code",
            "execution_count": null,
            "source": [
                "#visualizando o coeficiente angular da reta \r\n",
                "Lr.coef_"
            ],
            "outputs": [],
            "metadata": {}
        },
        {
            "cell_type": "code",
            "execution_count": null,
            "source": [
                "#visualizando o intercepto y\r\n",
                "Lr.intercept_"
            ],
            "outputs": [],
            "metadata": {}
        },
        {
            "cell_type": "code",
            "execution_count": null,
            "source": [
                "#Visualizando regressão\r\n",
                "fig, ax = plt.subplots()\r\n",
                "g = sns.scatterplot(data=df_vendas, x='Noticias_ON', y='Vendas_Acao', s=80, ax=ax)\r\n",
                "sns.lineplot(x=df_vendas['Noticias_ON'], y=prever, ax=ax, linewidth=3)\r\n",
                "g.axes.set_title(\"Regressão Linear Simples\",fontsize=22)\r\n",
                "g.set_ylabel(\"Vendas\")\r\n",
                "g.set_xlabel(\"Notícias online\")"
            ],
            "outputs": [],
            "metadata": {}
        },
        {
            "cell_type": "code",
            "execution_count": null,
            "source": [
                "#comparando 5 primeiros valores de Y do modelo com o valor de Y real\r\n",
                "print(\"Vendas modelo: \", prever.round(0))\r\n",
                "print(\"Vendas real:   \", df_vendas['Vendas_Acao'].tolist())"
            ],
            "outputs": [],
            "metadata": {}
        },
        {
            "cell_type": "markdown",
            "source": [
                "<h3 align=\"center\"><i>Por que o modelo não está prevendo o valor exato?</i></h3>"
            ],
            "metadata": {}
        },
        {
            "cell_type": "markdown",
            "source": [
                "Explicar o porque com a imagem de exemplo"
            ],
            "metadata": {}
        },
        {
            "cell_type": "markdown",
            "source": [
                "<img src=\"images/1/titulos/5-RegressaoLinearRaca.png\">"
            ],
            "metadata": {}
        },
        {
            "cell_type": "markdown",
            "source": [
                "Fórmula geral:\r\n",
                "# $A=(X^{T} X)^{-1} X^{T} Y$\r\n",
                "\r\n",
                "<i>onde</i>:<br>\r\n",
                "$A$ (array de duas posições): $\\beta_0$ (intercepto Y) e $\\beta_1$ (coeficiente angular)"
            ],
            "metadata": {}
        },
        {
            "cell_type": "markdown",
            "source": [
                "<img src=\"images/1/titulos/6-Matriz.png\">"
            ],
            "metadata": {}
        },
        {
            "cell_type": "code",
            "execution_count": null,
            "source": [
                "# Desenho de uma matriz eplicando seu nome, linhas, colunas etc"
            ],
            "outputs": [],
            "metadata": {}
        },
        {
            "cell_type": "markdown",
            "source": [
                "\"Matriz é uma tabela organizada em linhas e colunas no formato m x n, onde 'm' representa o número de linhas (horizontal) e 'n' o número de colunas (vertical).<br>\r\n",
                "A função das matrizes é relacionar dados numéricos. Por isso, o conceito de matriz não é só importante na Matemática, mas também em outras áreas já que as matrizes têm diversas aplicações.\"<br>\r\n",
                "<i>(Asth, Rafael. Matrizes.Toda Matéria. Disponível em: https://www.todamateria.com.br/matrizes-resumo/. Acesso em: 31/08/2021)</i>"
            ],
            "metadata": {}
        },
        {
            "cell_type": "markdown",
            "source": [
                "<div align=\"center\">\r\n",
                "Matriz transposta\r\n",
                "</div>"
            ],
            "metadata": {}
        },
        {
            "cell_type": "code",
            "execution_count": null,
            "source": [],
            "outputs": [],
            "metadata": {}
        },
        {
            "cell_type": "markdown",
            "source": [
                "<div align=\"center\">\r\n",
                "Matriz inversa\r\n",
                "</div>"
            ],
            "metadata": {}
        },
        {
            "cell_type": "code",
            "execution_count": null,
            "source": [],
            "outputs": [],
            "metadata": {}
        },
        {
            "cell_type": "markdown",
            "source": [
                "<div align=\"center\">\r\n",
                "Multiplicação de matrizes\r\n",
                "</div>"
            ],
            "metadata": {}
        },
        {
            "cell_type": "markdown",
            "source": [
                "<img src=\"images/1/1-teoriaMatriz.png\">"
            ],
            "metadata": {}
        },
        {
            "cell_type": "markdown",
            "source": [
                "iremos calcular \"A\" por partes:\r\n",
                "# 1) $(X^{T} X)^{-1}$\r\n",
                "# 2) $X^{T} Y$\r\n",
                "# 3) $(X^{T} X)^{-1} X^{T} Y$"
            ],
            "metadata": {}
        },
        {
            "cell_type": "markdown",
            "source": [
                "<h3 align=\"center\">Preparando os dados</h3>"
            ],
            "metadata": {}
        },
        {
            "cell_type": "code",
            "execution_count": null,
            "source": [
                "#separando Y\r\n",
                "Y = df_vendas['Vendas_Acao'].to_numpy()\r\n",
                "\r\n",
                "#visualizando Y\r\n",
                "Y"
            ],
            "outputs": [],
            "metadata": {}
        },
        {
            "cell_type": "code",
            "execution_count": null,
            "source": [
                "#salvando quantidade de linhas de X e Y\r\n",
                "linhas = len(Y)\r\n",
                "\r\n",
                "#criando matriz 2x2 preenchidas com números '1'\r\n",
                "X = np.ones(shape=(linhas,2), dtype=int)\r\n",
                "\r\n",
                "#substituindo todas linhas da segunda coluna pelas valores de \"Noticias_ON\"\r\n",
                "X[:,1] = df_vendas['Noticias_ON'].to_numpy()\r\n",
                "\r\n",
                "#visualizando matriz\r\n",
                "print(X)"
            ],
            "outputs": [],
            "metadata": {}
        },
        {
            "cell_type": "code",
            "execution_count": null,
            "source": [
                "#calculando matriz transposta de X\r\n",
                "Xt = X.T\r\n",
                "\r\n",
                "#visualizando Xt\r\n",
                "print(Xt)"
            ],
            "outputs": [],
            "metadata": {}
        },
        {
            "cell_type": "markdown",
            "source": [
                "<img src=\"images/1/titulos/7-CalculandoManualmente.png\">"
            ],
            "metadata": {}
        },
        {
            "cell_type": "markdown",
            "source": [
                "# 1) $(X^{T} X)^{-1}$"
            ],
            "metadata": {}
        },
        {
            "cell_type": "markdown",
            "source": [
                "<div align=\"center\">\r\n",
                "<i>multiplicando matrizes: $(X^{T} X)$</i>\r\n",
                "</div>"
            ],
            "metadata": {}
        },
        {
            "cell_type": "markdown",
            "source": [
                "<img src=\"images/1/3-Calculo1.png\">"
            ],
            "metadata": {}
        },
        {
            "cell_type": "markdown",
            "source": [
                "<img src=\"images/1/4-Calculo2.png\">"
            ],
            "metadata": {}
        },
        {
            "cell_type": "markdown",
            "source": [
                "<div align=\"center\">\r\n",
                "<i>Matriz inversa: $(X^{T} X)^{-1}$</i>\r\n",
                "</div>"
            ],
            "metadata": {}
        },
        {
            "cell_type": "markdown",
            "source": [
                "<img src=\"images/1/5-Calculo3.png\">"
            ],
            "metadata": {}
        },
        {
            "cell_type": "markdown",
            "source": [
                "<img src=\"images/1/titulos/8-CalcularUsandoNumpy.png\">"
            ],
            "metadata": {}
        },
        {
            "cell_type": "markdown",
            "source": [
                "$ 1)$ &nbsp; $(X^{T} X)^{-1}$"
            ],
            "metadata": {}
        },
        {
            "cell_type": "code",
            "execution_count": null,
            "source": [
                "#produto entre matrizes\r\n",
                "Xt_X = np.dot(Xt, X)\r\n",
                "\r\n",
                "#visualizando produto entre matrizes\r\n",
                "Xt_X"
            ],
            "outputs": [],
            "metadata": {}
        },
        {
            "cell_type": "code",
            "execution_count": null,
            "source": [
                "#calculand inversa da matriz\r\n",
                "Xt_X_inverse = np.linalg.inv(Xt_X)\r\n",
                "\r\n",
                "#visualizando matriz inversa\r\n",
                "Xt_X_inverse"
            ],
            "outputs": [],
            "metadata": {}
        },
        {
            "cell_type": "markdown",
            "source": [
                "2) $X^{T} Y$"
            ],
            "metadata": {}
        },
        {
            "cell_type": "code",
            "execution_count": null,
            "source": [
                "#produto entre matrizes\r\n",
                "Xt_Y = np.dot(Xt, Y)\r\n",
                "\r\n",
                "#visualizando produto entre matrizes\r\n",
                "Xt_Y"
            ],
            "outputs": [],
            "metadata": {}
        },
        {
            "cell_type": "markdown",
            "source": [
                "3) $(X^{T} X)^{-1} X^{T} Y$"
            ],
            "metadata": {}
        },
        {
            "cell_type": "code",
            "execution_count": null,
            "source": [
                "#produto entre matrizes\r\n",
                "A = np.dot(Xt_X_inverse, Xt_Y)\r\n",
                "\r\n",
                "#visualizando produto entre matrizes\r\n",
                "A"
            ],
            "outputs": [],
            "metadata": {}
        },
        {
            "cell_type": "code",
            "execution_count": null,
            "source": [
                "#comparando valores calculados com o do modelo no sklearn\r\n",
                "print(\"B0 Modelo:\", Lr.intercept_, \"B1 Modelo:\", Lr.coef_)\r\n",
                "print(\"B0 calcul:\", A[0],\" B1 calcul:\", A[1])"
            ],
            "outputs": [],
            "metadata": {}
        },
        {
            "cell_type": "markdown",
            "source": [
                "<div align=\"center\">\r\n",
                "Fórmula:<br>\r\n",
                "Vendas_Acao = -293 + 283 * Noticias_ON<br><br>\r\n",
                "Essa equação nos informa que, para cada notícia nova que é publicada, mais 283 pessoas vendem a ação.\r\n",
                "</div>"
            ],
            "metadata": {}
        },
        {
            "cell_type": "markdown",
            "source": [
                "<img src=\"images/1/titulos/9-CalculandoErros.png\">"
            ],
            "metadata": {}
        },
        {
            "cell_type": "code",
            "execution_count": null,
            "source": [],
            "outputs": [],
            "metadata": {}
        },
        {
            "cell_type": "markdown",
            "source": [
                "<h2><b>links úteis e referências:</b></h2>\r\n",
                "<a href=\"https://youtu.be/Qa_FI92_qo8\">Perform Linear Regression Using Matrices (vídeo)</a>\r\n",
                "<br>\r\n",
                "<a href=\"https://www.mathsisfun.com/algebra/matrix-multiplying.html\">How to Multiply Matrices </a>\r\n",
                "<br>\r\n",
                "<a href=\"https://youtu.be/F10TdwBH8qc\">Como calcular a matriz inversa (vídeo)</a>"
            ],
            "metadata": {}
        }
    ],
    "metadata": {
        "orig_nbformat": 4,
        "language_info": {
            "name": "python",
            "version": "3.8.8",
            "mimetype": "text/x-python",
            "codemirror_mode": {
                "name": "ipython",
                "version": 3
            },
            "pygments_lexer": "ipython3",
            "nbconvert_exporter": "python",
            "file_extension": ".py"
        },
        "kernelspec": {
            "name": "python3",
            "display_name": "Python 3.8.8 64-bit"
        },
        "interpreter": {
            "hash": "28c88515ae0f3480ea04047e7c7e5b45d61695f2041b7c4f39a5561c61b450c1"
        }
    },
    "nbformat": 4,
    "nbformat_minor": 2
}